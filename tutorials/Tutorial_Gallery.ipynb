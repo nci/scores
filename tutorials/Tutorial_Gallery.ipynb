{
 "cells": [
  {
   "cell_type": "markdown",
   "id": "acfa7d16-ab79-4ff5-9b94-7b7122d6a179",
   "metadata": {
    "tags": []
   },
   "source": [
    "# Tutorials\n",
    "\n",
    "Jupyter Notebooks for tutorials of `scores`.\n",
    "\n",
    "\n",
    "Firstly run [Data Fetching](./First_Data_Fetching.ipynb) to fetch the data needed for some later notebooks\n"
   ]
  },
  {
   "cell_type": "markdown",
   "id": "a48b39d6",
   "metadata": {
    "tags": [
     "nbsphinx-gallery"
    ]
   },
   "source": [
    "- [Data Fetching](./First_Data_Fetching.ipynb)"
   ]
  },
  {
   "cell_type": "markdown",
   "id": "344d823b",
   "metadata": {
    "tags": [
     "nbsphinx-gallery"
    ]
   },
   "source": [
    "\n",
    "## Continuous\n",
    "- [Additive Bias and Multiplicative Bias](./Additive_and_multiplicative_bias.ipynb)\n",
    "- [MAE](./Mean_Absolute_Error.ipynb)\n",
    "- [RMSE](./Root_Mean_Squared_Error.ipynb)\n",
    "- [MSE](./Mean_Squared_Error.ipynb)\n",
    "- [Pearson's Correlation](./Pearsons_Correlation.ipynb)\n",
    "- [Quantile Loss](./Quantile_Loss.ipynb)\n",
    "- [Murphy Diagrams](./Murphy_Diagrams.ipynb)\n",
    "- [Flip-Flop Index](./Flip_Flop_Index.ipynb)\n",
    "- [Consistent Scores](./Consistent_Scores.ipynb)"
   ]
  },
  {
   "cell_type": "markdown",
   "id": "066a42ff",
   "metadata": {
    "tags": [
     "nbsphinx-gallery"
    ]
   },
   "source": [
    "\n",
    "## Categorical\n",
    "- [FIRM](./FIRM.ipynb)\n",
    "- [Binary Categorical Scores](./Binary_Contingency_Scores.ipynb)\n"
   ]
  },
  {
   "cell_type": "markdown",
   "id": "5f7af137",
   "metadata": {
    "tags": [
     "nbsphinx-gallery"
    ]
   },
   "source": [
    "\n",
    "## Probability\n",
    "\n",
    "- [Brier Score](./Brier_Score.ipynb)\n",
    "- [CRPS for forecasts expressed as CDFs](./CRPS_for_CDFs.ipynb)\n",
    "- [CRPS for ensemble forecasts](./CRPS_for_Ensembles.ipynb)\n",
    "- [Receiver Operating Characteristic (ROC)](./ROC.ipynb)\n"
   ]
  },
  {
   "cell_type": "markdown",
   "id": "7def466e-1cde-4e6e-8245-41b5aa7a04c7",
   "metadata": {
    "tags": [
     "nbsphinx-gallery"
    ]
   },
   "source": [
    "## Spatial\n",
    "\n",
    "- [Fractions Skill Score](./Fractions_Skill_Score.ipynb)"
   ]
  },
  {
   "cell_type": "markdown",
   "id": "c8765192",
   "metadata": {
    "tags": [
     "nbsphinx-gallery"
    ]
   },
   "source": [
    "\n",
    "## Statistical Tests\n",
    "- [Diebold Mariano](./Diebold_Mariano_Test_Statistic.ipynb)\n"
   ]
  },
  {
   "cell_type": "markdown",
   "id": "002323e9-0e61-449d-a0c5-950948bec4be",
   "metadata": {
    "tags": [
     "nbsphinx-gallery"
    ]
   },
   "source": [
    "\n",
    "## Processing\n",
    "- [Isotonic Regression and Reliability Diagrams](./Isotonic_Regression_And_Reliability_Diagrams.ipynb)"
   ]
  },
  {
   "cell_type": "markdown",
   "id": "1035fdb8-418a-40f8-b15e-bab32192b9f1",
   "metadata": {},
   "source": []
  },
  {
   "cell_type": "markdown",
   "id": "6e1ed380",
   "metadata": {
    "tags": [
     "nbsphinx-gallery"
    ]
   },
   "source": [
    "\n",
    "## Other\n",
    "- [Weighting Results](./Weighting_Results.ipynb)\n",
    "- [Angular Data](./Angular_data.ipynb)\n",
    "- [Introduction to Pandas API](./Pandas_API.ipynb)"
   ]
  },
  {
   "cell_type": "code",
   "execution_count": null,
   "id": "4d050794-1d61-4274-bfd8-99b2fd24cc0e",
   "metadata": {},
   "outputs": [],
   "source": []
  }
 ],
 "metadata": {
  "kernelspec": {
   "display_name": "Python 3 (ipykernel)",
   "language": "python",
   "name": "python3"
  },
  "language_info": {
   "codemirror_mode": {
    "name": "ipython",
    "version": 3
   },
   "file_extension": ".py",
   "mimetype": "text/x-python",
   "name": "python",
   "nbconvert_exporter": "python",
   "pygments_lexer": "ipython3",
   "version": "3.12.3"
  }
 },
 "nbformat": 4,
 "nbformat_minor": 5
}
