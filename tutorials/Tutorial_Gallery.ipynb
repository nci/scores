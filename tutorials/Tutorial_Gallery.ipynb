{
 "cells": [
  {
   "cell_type": "markdown",
   "id": "acfa7d16-ab79-4ff5-9b94-7b7122d6a179",
   "metadata": {
    "tags": []
   },
   "source": [
    "# Tutorials"
   ]
  },
  {
   "cell_type": "markdown",
   "id": "3b0a593c-c8ab-430b-b21e-b64581de2fe5",
   "metadata": {},
   "source": [
    "Jupyter Notebooks for tutorials of `scores`.\n",
    "\n",
    "Firstly run [Data Fetching](./First_Data_Fetching.ipynb) to fetch the data needed for some later notebooks"
   ]
  },
  {
   "cell_type": "markdown",
   "id": "a48b39d6",
   "metadata": {
    "tags": [
     "nbsphinx-gallery"
    ]
   },
   "source": [
    "- [Data Fetching](./First_Data_Fetching.ipynb)"
   ]
  },
  {
   "cell_type": "markdown",
   "id": "6164e315-0297-45a1-b013-9b9c3010368a",
   "metadata": {},
   "source": [
    "## Continuous"
   ]
  },
  {
   "cell_type": "markdown",
   "id": "344d823b",
   "metadata": {
    "tags": [
     "nbsphinx-gallery"
    ]
   },
   "source": [
    "- [Additive Bias, Multiplicative Bias and Percent Bias](./Additive_and_multiplicative_bias.ipynb)\n",
    "- [MAE](./Mean_Absolute_Error.ipynb)\n",
    "- [RMSE](./Root_Mean_Squared_Error.ipynb)\n",
    "- [MSE](./Mean_Squared_Error.ipynb)\n",
    "- [Pearson's Correlation](./Pearsons_Correlation.ipynb)\n",
    "- [Kling-Gupta Efficiency](./Kling_Gupta_Efficiency.ipynb)\n",
    "- [Quantile Loss](./Quantile_Loss.ipynb)\n",
    "- [Murphy Diagrams](./Murphy_Diagrams.ipynb)\n",
    "- [Flip-Flop Index](./Flip_Flop_Index.ipynb)\n",
    "- [Consistent Scores](./Consistent_Scores.ipynb)\n",
    "- [Threshold Weighted Scores](./Threshold_Weighted_Scores.ipynb)\n",
    "- [Quantile Interval Score and Interval Score](./Quantile_Interval_And_Interval_Score.ipynb)"
   ]
  },
  {
   "cell_type": "markdown",
   "id": "0af5aac9-a2b4-43a3-a9ca-1ddb43594174",
   "metadata": {},
   "source": [
    "## Probability"
   ]
  },
  {
   "cell_type": "markdown",
   "id": "066a42ff",
   "metadata": {
    "tags": [
     "nbsphinx-gallery"
    ]
   },
   "source": [
    "- [Brier Score](./Brier_Score.ipynb)\n",
    "- [CRPS for forecasts expressed as CDFs](./CRPS_for_CDFs.ipynb)\n",
    "- [CRPS for ensemble forecasts](./CRPS_for_Ensembles.ipynb)\n",
    "- [twCRPS for ensemble forecasts](./Threshold_Weighted_CRPS_for_Ensembles.ipynb)\n",
    "- [Receiver Operating Characteristic (ROC)](./ROC.ipynb)"
   ]
  },
  {
   "cell_type": "markdown",
   "id": "cbc9ee2e-7236-411b-b59a-fbd35408e65e",
   "metadata": {},
   "source": [
    "## Categorical"
   ]
  },
  {
   "cell_type": "markdown",
   "id": "7def466e-1cde-4e6e-8245-41b5aa7a04c7",
   "metadata": {
    "tags": [
     "nbsphinx-gallery"
    ]
   },
   "source": [
    "- [FIRM](./FIRM.ipynb)\n",
    "- [Binary (Categorical/Contingency/Confusion Matrix) Scores](./Binary_Contingency_Scores.ipynb)"
   ]
  },
  {
   "cell_type": "markdown",
   "id": "5c177aac-25d1-4c65-8e26-d6caea1417ca",
   "metadata": {},
   "source": [
    "## Spatial"
   ]
  },
  {
   "cell_type": "markdown",
   "id": "5f7af137",
   "metadata": {
    "tags": [
     "nbsphinx-gallery"
    ]
   },
   "source": [
    "- [Fractions Skill Score](./Fractions_Skill_Score.ipynb)"
   ]
  },
  {
   "cell_type": "markdown",
   "id": "46d1fa0f-6c84-4493-b9ae-46fc584f5020",
   "metadata": {},
   "source": [
    "## Statistical Tests"
   ]
  },
  {
   "cell_type": "markdown",
   "id": "c8765192",
   "metadata": {
    "tags": [
     "nbsphinx-gallery"
    ]
   },
   "source": [
    "- [Diebold Mariano](./Diebold_Mariano_Test_Statistic.ipynb)"
   ]
  },
  {
   "cell_type": "markdown",
   "id": "b5052d34-9359-486a-982b-a3c11d147dd1",
   "metadata": {},
   "source": [
    "## Processing"
   ]
  },
  {
   "cell_type": "markdown",
   "id": "002323e9-0e61-449d-a0c5-950948bec4be",
   "metadata": {
    "tags": [
     "nbsphinx-gallery"
    ]
   },
   "source": [
    "- [Isotonic Regression and Reliability Diagrams](./Isotonic_Regression_And_Reliability_Diagrams.ipynb)"
   ]
  },
  {
   "cell_type": "markdown",
   "id": "3af91021-80ab-4d0c-bc81-b13f5e039ec0",
   "metadata": {},
   "source": [
    "## Other"
   ]
  },
  {
   "cell_type": "markdown",
   "id": "6e1ed380",
   "metadata": {
    "tags": [
     "nbsphinx-gallery"
    ]
   },
   "source": [
    "- [Dimension Handling](./Dimension_Handling.ipynb)\n",
    "- [Weighting Results](./Weighting_Results.ipynb)\n",
    "- [Angular Data](./Angular_data.ipynb)\n",
    "- [Introduction to Pandas API](./Pandas_API.ipynb)"
   ]
  },
  {
   "cell_type": "markdown",
   "id": "5051d7d2",
   "metadata": {},
   "source": []
  }
 ],
 "metadata": {
  "kernelspec": {
   "display_name": "Python 3 (ipykernel)",
   "language": "python",
   "name": "python3"
  },
  "language_info": {
   "codemirror_mode": {
    "name": "ipython",
    "version": 3
   },
   "file_extension": ".py",
   "mimetype": "text/x-python",
   "name": "python",
   "nbconvert_exporter": "python",
   "pygments_lexer": "ipython3",
   "version": "3.13.0"
  }
 },
 "nbformat": 4,
 "nbformat_minor": 5
}
