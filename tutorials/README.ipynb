{
 "cells": [
  {
   "cell_type": "markdown",
   "id": "acfa7d16-ab79-4ff5-9b94-7b7122d6a179",
   "metadata": {},
   "source": [
    "# README.ipynb\n",
    "\n",
    "This directory contains Jupyter Notebooks for tutorials of `scores`.\n",
    "\n",
    "## First Steps\n",
    "\n",
    "Firstly run [Data Fetching](./First_Data_Fetching.ipynb) to fetch the data needed for some later notebooks\n",
    "\n",
    "## Tutorials\n",
    "\n",
    "- [Brier Score](./Brier_Score.ipynb)\n",
    "- [CRPS](./Continuous_Ranked_Probability_Score.ipynb)\n",
    "- [Diebold Mariano](./Diebold_Mariano_Test_Statistic.ipynb)\n",
    "- [FIRM](./Firm.ipynb)\n",
    "- [Flip Flop](./Flip_Flop_Index.ipynb)\n",
    "- [Isotonic Regression](./Isotonic_Regression.ipynb)\n",
    "- [MAE](./Mean_Absolute_Error.ipynb) / [RMSE](./Root_Mean_Absolute_Error.ipynb) / [MSE](./Mean_Squared_Error.ipynb)\n",
    "- [Murphy Diagrams](./Murphy_Diagrams.ipynb)\n",
    "- [Pearson's Correlation](./Pearsons_Correlation.ipynb)\n",
    "- [Quantile Loss](./Quantile_Loss.ipynb)\n",
    "- [R(./Quantile_Loss.ipynb)"
   ]
  },
  {
   "cell_type": "code",
   "execution_count": null,
   "id": "7a93ddd1-da76-432a-9684-f26812c92f0e",
   "metadata": {},
   "outputs": [],
   "source": []
  }
 ],
 "metadata": {
  "kernelspec": {
   "display_name": "Python 3 (ipykernel)",
   "language": "python",
   "name": "python3"
  },
  "language_info": {
   "codemirror_mode": {
    "name": "ipython",
    "version": 3
   },
   "file_extension": ".py",
   "mimetype": "text/x-python",
   "name": "python",
   "nbconvert_exporter": "python",
   "pygments_lexer": "ipython3",
   "version": "3.12.1"
  }
 },
 "nbformat": 4,
 "nbformat_minor": 5
}
