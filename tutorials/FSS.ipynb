{
 "cells": [
  {
   "cell_type": "markdown",
   "id": "ee0d9b1c-9e0a-4fe1-891a-a74450c1dd3b",
   "metadata": {},
   "source": [
    "# Fractions Skill Score (FSS)\n",
    "For an explanation of the FSS, and implementation considerations,\n",
    "see: [Fast calculation of the Fractions Skill Score][fss_ref]\n",
    "\n",
    "[fss_ref]:\n",
    "https://www.researchgate.net/publication/269222763_Fast_calculation_of_the_Fractions_Skill_Score"
   ]
  },
  {
   "cell_type": "markdown",
   "id": "2162e15f-0bbc-4b5a-856d-f70d550c779e",
   "metadata": {
    "editable": true,
    "slideshow": {
     "slide_type": ""
    },
    "tags": []
   },
   "source": [
    "## FSS for a single 2D field\n",
    "FSS is computed over 2D arrays representing the observations & forecasts in the spatial domain. The user has to make sure that the input dimensions correspond to the spatial domain e.g. `lat x lon`. Generally the computation involves sliding a window over the input field(s) and applying a threshold over the fcst and obs values.\n",
    "\n",
    "The resulting binary field is summed up to represent the populace (number of ones/\"true\" values in the window).\n",
    "\n",
    "The resulting 2-D field of rolling sums represents \"_Integral Image_\" of the respective forecast and obeservation fields, which is then aggregated over all the sliding windows to compute the fractions skill score.\n",
    "\n",
    "The FSS is then roughly defined as:\n",
    "```\n",
    "    fss = 1 - sum_w((p_o - p_f)^2) / (sum_w(p_o^2) + sum_w(p_f^2))\n",
    "\n",
    "    where,\n",
    "    p_o: observation populace > threshold, in one window\n",
    "    p_f: forecast populace > threshold, in one window\n",
    "    sum_w: sum over all windows\n",
    "````\n",
    "\n",
    "The implementation details are beyond the scope of this tutorial please refer to, [Fast calculation of the Fractions Skill Score][fss_ref] for more info\n",
    "\n",
    "In summary, computation of a single field requires the following parameters:\n",
    "- forecast 2-D field (in spatial domain)\n",
    "- observations 2-D field (in spatial domain)\n",
    "- window size (width x height): The window size of the sliding window\n",
    "- threshold: To compare the input fields against to generate a binary field\n",
    "- compute method: (optional) currently only `numpy` is supported\n",
    "\n",
    "[fss_ref]:\n",
    "https://www.researchgate.net/publication/269222763_Fast_calculation_of_the_Fractions_Skill_Score"
   ]
  },
  {
   "cell_type": "markdown",
   "id": "d466d1f0-1ce2-4517-8a76-dbabbcf14363",
   "metadata": {},
   "source": [
    "**1. Setup** \n",
    "\n",
    "First let's create some random data for our forecast and observation fields. Let's also try out a few scenarios:\n",
    "```\n",
    "scenario 1: obs distribution = fcst distribution = N(0, 1)\n",
    "scenario 2: fcst distribution biased = N(1, 1)\n",
    "scenario 3: fcst distribution variant = N(0, 2)\n",
    "\n",
    "where N(mu, sigma) = normal distribution with mean = mu and standard deviation = sigma\n",
    "```"
   ]
  },
  {
   "cell_type": "code",
   "execution_count": null,
   "id": "36904d44-2047-4b9b-ae73-c7a49abd205b",
   "metadata": {},
   "outputs": [],
   "source": [
    "import numpy as np\n",
    "\n",
    "# specify input spatial dimensions\n",
    "num_cols = 600\n",
    "num_rows = 400\n",
    "\n",
    "# set seed for reproducibility\n",
    "np.random.seed(42)\n",
    "\n",
    "# generate random fields\n",
    "obs = np.random.normal(loc=0.0, scale=1.0, size = (num_rows, num_cols))\n",
    "fcst_1 = np.random.normal(loc=0.0, scale=1.0, size = (num_rows, num_cols))\n",
    "fcst_2 = np.random.normal(loc=1.0, scale=1.0, size = (num_rows, num_cols))\n",
    "fcst_3 = np.random.normal(loc=0.0, scale=2.0, size = (num_rows, num_cols))\n",
    "\n",
    "# summarize to sanity check the fields\n",
    "_summarize = lambda x, field: print(\n",
    "    \"{: >20}: shape={}, mean={:.2f}, stddev={:.2f}\".format(\n",
    "    field, x.shape, np.mean(x), np.std(x)\n",
    "))\n",
    "_summarize(obs, \"observations\")\n",
    "_summarize(fcst_1, \"forecast scenario 1\")\n",
    "_summarize(fcst_2, \"forecast scenario 2\")\n",
    "_summarize(fcst_3, \"forecast scenario 3\")\n"
   ]
  },
  {
   "cell_type": "markdown",
   "id": "65de79c5-eb7d-49e1-bb74-469d6ef4295e",
   "metadata": {},
   "source": [
    "**2. Define inputs**\n",
    "\n",
    "We need to now specify the threshold, window size and compute method. For now, lets choose a single window, and threshold. While the current `fss` method doesn't allow for more than 1 threshold and window definition per call, we'll see how calculate multiple thresholds/windows in a later step."
   ]
  },
  {
   "cell_type": "code",
   "execution_count": null,
   "id": "ddfb3f97-89f1-4b8d-ba7a-1227d06b8757",
   "metadata": {},
   "outputs": [],
   "source": [
    "from scores.probability.fss_impl import FssComputeMethod\n",
    "window_size = (100, 100)  # height * width or row size * col size\n",
    "threshold = 0.5  # arbitrarily chosen\n",
    "compute_method = FssComputeMethod.NUMPY  # Note: you can set this to None for now, since only NUMPY is supported currently\n",
    "\n",
    "print(\"window_size:\", window_size)\n",
    "print(\"threshold:\", threshold)\n",
    "print(\"compute_method:\", compute_method)"
   ]
  },
  {
   "cell_type": "markdown",
   "id": "4e12430b-f3f9-43b6-bc60-9b1e0b77eb63",
   "metadata": {},
   "source": [
    "**3. Run FSS**\n",
    "\n",
    "Since we only have spatial dims we'll be using `scores.probability.fss_impl.fss_2d_single_field` for this purpose."
   ]
  },
  {
   "cell_type": "code",
   "execution_count": null,
   "id": "bcf90715-41bb-4c11-8cf0-2b3d50696088",
   "metadata": {},
   "outputs": [],
   "source": [
    "from scores.probability.fss_impl import fss_2d_single_field\n",
    "\n",
    "# compile scenarios\n",
    "scenarios = {\n",
    "    \"scenario 1 (same distribution)\": [obs, fcst_1],\n",
    "    \"scenario 2 (biased fcst)\": [obs, fcst_2],\n",
    "    \"scenario 3 (variant fcst)\": [obs, fcst_3],\n",
    "}\n",
    "result = []\n",
    "\n",
    "# run through each scenario and compute FSS with inputs defined above\n",
    "for s, v in scenarios.items():\n",
    "    _obs, _fcst = v\n",
    "    _fss = fss_2d_single_field(\n",
    "        _fcst,\n",
    "        _obs,\n",
    "        threshold=threshold,\n",
    "        window=window_size,\n",
    "        compute_method=compute_method\n",
    "    )\n",
    "    result.append((s, _fss))\n",
    "\n",
    "# tabulate results\n",
    "print(f\"{' '*30} | fss score\")\n",
    "print(f\"{' '*30} | ---------\")\n",
    "_ = [print(\"{:<30} | {}\".format(s, v)) for (s, v) in result]"
   ]
  },
  {
   "cell_type": "markdown",
   "id": "99f1dcb6-9b48-4394-9aa7-b1f1911897fb",
   "metadata": {},
   "source": [
    "As apparent above, with the same distribution, we get a score close to 1, this is because the FSS doesn't actually care about where in any given windows the binary fields match; only the total count. With a biased distribution the score dips a lot, which is expected with a threshold of 0.5 and a bias of 1.0. Whereas for a variant forecast, we still get a reasonable score, this is also expected since the variation isn't too large and the distributions still overlap quite a bit."
   ]
  },
  {
   "cell_type": "markdown",
   "id": "011e1c13-4f25-4a19-9b76-593e2968f348",
   "metadata": {},
   "source": [
    "**4. Multiple inputs**\n",
    "\n",
    "Suppose now that we want to collate data for multiple thresholds/windows. There are several ways of doing this, including vectorization. The following will show one way of doing it that, while more verbose, would hopefully help decompose the operations required to create the final accumulated dataset.\n",
    "\n",
    "Now that we understand how the argument mapping works, let's re-create the mapping and run the fss, we'll also store the results in a `W x T x S` array before converting it to xarray for displaying.\n",
    "```\n",
    "W x T x S where,\n",
    "W = number of windows\n",
    "T = number of thresholds\n",
    "S = number of scenarios\n",
    "```"
   ]
  },
  {
   "cell_type": "code",
   "execution_count": null,
   "id": "34b44931-accc-4024-a51a-bf766811234e",
   "metadata": {
    "editable": true,
    "slideshow": {
     "slide_type": ""
    },
    "tags": []
   },
   "outputs": [],
   "source": [
    "import xarray as xr\n",
    "import itertools\n",
    "\n",
    "# as before\n",
    "window_sizes = np.linspace((20,20), (100,100), 5, dtype=(int,int))\n",
    "thresholds = np.linspace(0.0, 1.0, 5, dtype=float)\n",
    "input_scenarios = [[obs, fcst_1], [obs, fcst_2], [obs, fcst_3]]\n",
    "compute_method = FssComputeMethod.NUMPY\n",
    "\n",
    "# create output array\n",
    "W = len(window_sizes)\n",
    "T = len(thresholds)\n",
    "S = len(input_scenarios)\n",
    "fss_out = np.zeros((W, T, S))\n",
    "\n",
    "# lets iterate over the indices, setting the `multi_index` and `writeonly` flags\n",
    "with np.nditer(fss_out, flags=['multi_index'], op_flags=['writeonly']) as it:\n",
    "    for _fss in it:\n",
    "        window_idx, threshold_idx, input_idx = it.multi_index\n",
    "        _window_size = window_sizes[window_idx]\n",
    "        _threshold = thresholds[threshold_idx]\n",
    "        _obs, _fcst = input_scenarios[input_idx]\n",
    "        _fss[...] = fss_2d_single_field(\n",
    "            _fcst,\n",
    "            _obs,\n",
    "            threshold=_threshold,\n",
    "            window=_window_size,\n",
    "            compute_method=compute_method\n",
    "        )\n",
    "\n",
    "# construct output xarray with results\n",
    "da = xr.DataArray(\n",
    "    data=fss_out,\n",
    "    dims=[\"window_size\", \"threshold\", \"scenario\"],\n",
    "    coords=dict(\n",
    "        window_size=[str(x) for x in window_sizes],\n",
    "        threshold=[str(x) for x in thresholds],\n",
    "        scenario=range(len(input_scenarios))\n",
    "    ),\n",
    "    attrs=dict(\n",
    "        description=\"Fractions skill score\",\n",
    "    ),\n",
    ")\n",
    "da"
   ]
  },
  {
   "cell_type": "markdown",
   "id": "584d7fb9-ebcb-480e-86f9-e4aced18583a",
   "metadata": {},
   "source": []
  },
  {
   "cell_type": "code",
   "execution_count": null,
   "id": "188acb07-c1b8-4e30-b19c-ba45c1875008",
   "metadata": {},
   "outputs": [],
   "source": []
  },
  {
   "cell_type": "code",
   "execution_count": null,
   "id": "01094917-e2a5-4de1-b60a-f7456c8a9c33",
   "metadata": {},
   "outputs": [],
   "source": []
  }
 ],
 "metadata": {
  "kernelspec": {
   "display_name": "Python 3 (ipykernel)",
   "language": "python",
   "name": "python3"
  },
  "language_info": {
   "codemirror_mode": {
    "name": "ipython",
    "version": 3
   },
   "file_extension": ".py",
   "mimetype": "text/x-python",
   "name": "python",
   "nbconvert_exporter": "python",
   "pygments_lexer": "ipython3",
   "version": "3.11.8"
  }
 },
 "nbformat": 4,
 "nbformat_minor": 5
}
