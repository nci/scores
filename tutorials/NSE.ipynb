{
 "cells": [
  {
   "cell_type": "markdown",
   "metadata": {},
   "source": [
    "# Tutorial: Nash-Sutcliffe Efficiency (NSE) Calculation\n",
    "In this tutorial, we will explore the Nash-Sutcliffe Efficiency (NSE) calculation function `nse`. NSE is a widely used metric in hydrology and other fields to evaluate the performance of a model by comparing its predictions to observed data.\n",
    "\n",
    "## Introduction\n",
    "\n",
    "The Nash-Sutcliffe Efficiency (NSE) is defined as:\n",
    "\n",
    "$NSE = 1 - \\frac{\\sum_{i=1}^{n}(f_i - o_i)^2}{\\sum_{i=1}^{n}(o_i - \\bar{o})^2}$\n",
    "\n",
    "Where:\n",
    "- $f_i$ is the forecast or predicted value\n",
    "- $o_i$ is the observed value\n",
    "- $\\bar{o}$ is the mean of the observed values\n",
    "- $n$ is the number of data points\n",
    "\n",
    "A perfect model has an NSE value of 1, while a model performing as poorly as the mean of the observed data has an NSE value of 0 or less.\n",
    "\n",
    "## Using the `nse` Function\n",
    "\n",
    "Let's start by importing the `nse` function from our module and exploring its usage with different types of input data."
   ]
  },
  {
   "cell_type": "code",
   "execution_count": 29,
   "metadata": {},
   "outputs": [],
   "source": [
    "from scores.continuous import nse\n",
    "import numpy as np\n",
    "import xarray as xr\n",
    "import pandas as pd\n",
    "\n",
    "np.random.seed(0)  # set the seed to make notebook reproducible"
   ]
  },
  {
   "cell_type": "markdown",
   "metadata": {},
   "source": [
    "**Example 1**: NumPy Arrays"
   ]
  },
  {
   "cell_type": "code",
   "execution_count": 27,
   "metadata": {},
   "outputs": [
    {
     "name": "stdout",
     "output_type": "stream",
     "text": [
      "NSE for NumPy arrays: <xarray.DataArray ()>\n",
      "array(0.5)\n"
     ]
    }
   ],
   "source": [
    "fcst_np = np.array([3, 4, 5, 6, 7])\n",
    "obs_np = np.array([2, 3, 4, 5, 6])\n",
    "nse_np = nse(fcst_np, obs_np)\n",
    "print(\"NSE for NumPy arrays:\", nse_np)"
   ]
  },
  {
   "cell_type": "markdown",
   "metadata": {},
   "source": [
    "**Example 2**: Pandas Series"
   ]
  },
  {
   "cell_type": "code",
   "execution_count": 30,
   "metadata": {},
   "outputs": [
    {
     "name": "stdout",
     "output_type": "stream",
     "text": [
      "NSE for Pandas Series: <xarray.DataArray ()>\n",
      "array(0.5)\n"
     ]
    }
   ],
   "source": [
    "fcst_series = pd.Series([3, 4, 5, 6, 7])\n",
    "obs_series = pd.Series([2, 3, 4, 5, 6])\n",
    "nse_series = nse(fcst_series, obs_series)\n",
    "print(\"NSE for Pandas Series:\", nse_series)"
   ]
  },
  {
   "cell_type": "markdown",
   "metadata": {},
   "source": [
    "**Example 3**: Xarray DataArray"
   ]
  },
  {
   "cell_type": "code",
   "execution_count": 31,
   "metadata": {},
   "outputs": [
    {
     "name": "stdout",
     "output_type": "stream",
     "text": [
      "NSE for Xarray DataArray: <xarray.DataArray ()>\n",
      "array(0.5)\n"
     ]
    }
   ],
   "source": [
    "fcst_xr = xr.DataArray([3, 4, 5, 6, 7])\n",
    "obs_xr = xr.DataArray([2, 3, 4, 5, 6])\n",
    "nse_xr = nse(fcst_xr, obs_xr)\n",
    "print(\"NSE for Xarray DataArray:\", nse_xr)"
   ]
  },
  {
   "cell_type": "markdown",
   "metadata": {},
   "source": [
    "**Example 4**: Lists"
   ]
  },
  {
   "cell_type": "code",
   "execution_count": 32,
   "metadata": {},
   "outputs": [
    {
     "name": "stdout",
     "output_type": "stream",
     "text": [
      "NSE for lists: <xarray.DataArray ()>\n",
      "array(0.5)\n"
     ]
    }
   ],
   "source": [
    "fcst_list = [3, 4, 5, 6, 7]\n",
    "obs_list = [2, 3, 4, 5, 6]\n",
    "nse_list = nse(fcst_list, obs_list)\n",
    "print(\"NSE for lists:\", nse_list)"
   ]
  },
  {
   "cell_type": "markdown",
   "metadata": {},
   "source": [
    "**Example 5**: Mixed Types"
   ]
  },
  {
   "cell_type": "code",
   "execution_count": 33,
   "metadata": {},
   "outputs": [
    {
     "name": "stdout",
     "output_type": "stream",
     "text": [
      "NSE for mixed types: <xarray.DataArray ()>\n",
      "array(0.5)\n"
     ]
    }
   ],
   "source": [
    "fcst_mix = np.array([3, 4, 5, 6, 7])\n",
    "obs_mix = pd.Series([2, 3, 4, 5, 6])\n",
    "nse_mix = nse(fcst_mix, obs_mix)\n",
    "print(\"NSE for mixed types:\", nse_mix)"
   ]
  },
  {
   "cell_type": "markdown",
   "metadata": {},
   "source": [
    "**Example 6**: Large Xarray DataArrays"
   ]
  },
  {
   "cell_type": "code",
   "execution_count": 34,
   "metadata": {},
   "outputs": [
    {
     "name": "stdout",
     "output_type": "stream",
     "text": [
      "NSE for large Xarray DataArrays: <xarray.DataArray ()>\n",
      "array(-0.9995806)\n"
     ]
    }
   ],
   "source": [
    "fcst_large = xr.DataArray(\n",
    "    data=np.random.random_sample((1000, 1000)) * 360, \n",
    "    dims=[\"space\", \"time\"], \n",
    "    coords=[np.arange(0, 1000),  np.arange(0, 1000)]\n",
    ")\n",
    "obs_large = xr.DataArray(\n",
    "    data=np.random.random_sample((1000, 1000)) * 360, \n",
    "    dims=[\"space\", \"time\"], \n",
    "    coords=[np.arange(0, 1000),  np.arange(0, 1000)]\n",
    ")\n",
    "nse_large = nse(fcst_large, obs_large)\n",
    "print(\"NSE for large Xarray DataArrays:\", nse_large)\n"
   ]
  },
  {
   "cell_type": "markdown",
   "metadata": {},
   "source": [
    "**Example 7**: Angular and array"
   ]
  },
  {
   "cell_type": "code",
   "execution_count": 35,
   "metadata": {},
   "outputs": [
    {
     "name": "stdout",
     "output_type": "stream",
     "text": [
      "NSE for angular types: <xarray.DataArray ()>\n",
      "array(1.)\n"
     ]
    }
   ],
   "source": [
    "fcst = np.array([0, 90, 180, 270, 360])\n",
    "obs = np.array([0, 90, 180, 270, 360])\n",
    "nse_anular = nse(fcst, obs,angular=True)\n",
    "print(\"NSE for angular types:\", nse_anular )"
   ]
  },
  {
   "cell_type": "markdown",
   "metadata": {},
   "source": [
    "**Example 8**: Weight and array"
   ]
  },
  {
   "cell_type": "code",
   "execution_count": 37,
   "metadata": {},
   "outputs": [
    {
     "name": "stdout",
     "output_type": "stream",
     "text": [
      "NSE with weights types: <xarray.DataArray ()>\n",
      "array(0.5)\n"
     ]
    }
   ],
   "source": [
    "\n",
    "fcst = np.array([3, 4, 5, 6, 7])\n",
    "obs = np.array([2, 3, 4, 5, 6])\n",
    "weights = np.array([1, 2, 3, 2, 1])\n",
    "nse_weights=nse(fcst, obs, weights=weights)\n",
    "print(\"NSE with weights types:\", nse_weights )\n"
   ]
  }
 ],
 "metadata": {
  "kernelspec": {
   "display_name": "scoresenv",
   "language": "python",
   "name": "python3"
  },
  "language_info": {
   "codemirror_mode": {
    "name": "ipython",
    "version": 3
   },
   "file_extension": ".py",
   "mimetype": "text/x-python",
   "name": "python",
   "nbconvert_exporter": "python",
   "pygments_lexer": "ipython3",
   "version": "3.12.0"
  },
  "orig_nbformat": 4
 },
 "nbformat": 4,
 "nbformat_minor": 2
}
