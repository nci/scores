{
 "cells": [
  {
   "cell_type": "markdown",
   "metadata": {},
   "source": [
    "# Tutorial: Nash-Sutcliffe Efficiency (NSE) Calculation\n",
    "In this tutorial, we will explore the Nash-Sutcliffe Efficiency (NSE) calculation function `nse`. NSE is a widely used metric in hydrology and other fields to evaluate the performance of a model by comparing its predictions to observed data.\n",
    "\n",
    "#### NSE\n",
    "\n",
    "The Nash-Sutcliffe Efficiency (NSE) is defined as:\n",
    "\n",
    "$NSE = 1 - \\frac{\\sum_{i=1}^{n}(f_i - o_i)^2}{\\sum_{i=1}^{n}(o_i - \\bar{o})^2}$\n",
    "\n",
    "Where:\n",
    "- $f_i$ is the forecast or predicted value\n",
    "- $o_i$ is the observed value\n",
    "- $\\bar{o}$ is the mean of the observed values\n",
    "- $n$ is the number of data points\n",
    "\n",
    "A perfect model has an NSE value of 1, while a model performing as poorly as the mean of the observed data has an NSE value of 0 or less.\n",
    "\n",
    "In hydrological modeling, the Nash–Sutcliffe Efficiency (NSE) is essential for assessing model performance. An NSE of 1 indicates perfect prediction, while 0 suggests the model performs as well as predicting the mean of the data. Negative values imply the observed mean is a better predictor. NSE values closer to 1 denote superior predictive ability. In regression analyses, NSE parallels the coefficient of determination (R²), representing model fit on a scale from 0 to 1.\n",
    "\n",
    "Reference:\n",
    "- https://hess.copernicus.org/articles/26/4801/2022/\n",
    "- \n",
    "\n",
    "## Using the `nse` Function\n",
    "\n",
    "Let's start by importing the `nse` function from our module and exploring its usage with different types of input data."
   ]
  },
  {
   "cell_type": "code",
   "execution_count": 1,
   "metadata": {},
   "outputs": [],
   "source": [
    "from scores.continuous.standard_impl import nse\n",
    "import numpy as np\n",
    "import xarray as xr\n",
    "import pandas as pd\n",
    "\n",
    "np.random.seed(0)  # set the seed to make notebook reproducible"
   ]
  },
  {
   "cell_type": "markdown",
   "metadata": {},
   "source": [
    "**Example 1**: Xarray DataArray"
   ]
  },
  {
   "cell_type": "code",
   "execution_count": 2,
   "metadata": {},
   "outputs": [
    {
     "name": "stdout",
     "output_type": "stream",
     "text": [
      "NSE for Xarray DataArray: <xarray.DataArray ()> Size: 8B\n",
      "array(0.5)\n"
     ]
    }
   ],
   "source": [
    "fcst_xr = xr.DataArray([3, 4, 5, 6, 7])\n",
    "obs_xr = xr.DataArray([2, 3, 4, 5, 6])\n",
    "nse_xr = nse(fcst_xr, obs_xr)\n",
    "print(\"NSE for Xarray DataArray:\", nse_xr)"
   ]
  },
  {
   "cell_type": "markdown",
   "metadata": {},
   "source": [
    "**Example 2**: Large Xarray DataArrays"
   ]
  },
  {
   "cell_type": "code",
   "execution_count": 3,
   "metadata": {},
   "outputs": [
    {
     "name": "stdout",
     "output_type": "stream",
     "text": [
      "NSE for large Xarray DataArrays: <xarray.DataArray ()> Size: 8B\n",
      "array(-0.9995806)\n"
     ]
    }
   ],
   "source": [
    "fcst_large = xr.DataArray(\n",
    "    data=np.random.random_sample((1000, 1000)) * 360,\n",
    "    dims=[\"space\", \"time\"],\n",
    "    coords=[np.arange(0, 1000), np.arange(0, 1000)],\n",
    ")\n",
    "obs_large = xr.DataArray(\n",
    "    data=np.random.random_sample((1000, 1000)) * 360,\n",
    "    dims=[\"space\", \"time\"],\n",
    "    coords=[np.arange(0, 1000), np.arange(0, 1000)],\n",
    ")\n",
    "nse_large = nse(fcst_large, obs_large)\n",
    "print(\"NSE for large Xarray DataArrays:\", nse_large)"
   ]
  },
  {
   "cell_type": "markdown",
   "metadata": {},
   "source": [
    "**Example 3**: Angular and array"
   ]
  },
  {
   "cell_type": "code",
   "execution_count": 4,
   "metadata": {},
   "outputs": [
    {
     "name": "stdout",
     "output_type": "stream",
     "text": [
      "NSE for angular types: <xarray.DataArray ()> Size: 8B\n",
      "array(0.5)\n"
     ]
    }
   ],
   "source": [
    "fcst_xr = xr.DataArray([3, 4, 5, 6, 7])\n",
    "obs_xr = xr.DataArray([2, 3, 4, 5, 6])\n",
    "nse_anular = nse(fcst_xr, obs_xr, angular=True)\n",
    "print(\"NSE for angular types:\", nse_anular)"
   ]
  },
  {
   "cell_type": "markdown",
   "metadata": {},
   "source": [
    "**Example 4**: Weight and array"
   ]
  },
  {
   "cell_type": "code",
   "execution_count": 5,
   "metadata": {},
   "outputs": [
    {
     "name": "stdout",
     "output_type": "stream",
     "text": [
      "NSE with weights types: <xarray.DataArray ()> Size: 8B\n",
      "array(0.5)\n"
     ]
    }
   ],
   "source": [
    "fcst_xr = xr.DataArray([3, 4, 5, 6, 7])\n",
    "obs_xr = xr.DataArray([2, 3, 4, 5, 6])\n",
    "weights = np.array([1, 2, 3, 2, 1])\n",
    "nse_weights = nse(fcst_xr, obs_xr, weights=weights)\n",
    "print(\"NSE with weights types:\", nse_weights)"
   ]
  },
  {
   "cell_type": "markdown",
   "metadata": {},
   "source": [
    "**Example 5**: 2D Array: time and station"
   ]
  },
  {
   "cell_type": "code",
   "execution_count": 6,
   "metadata": {},
   "outputs": [],
   "source": [
    "def create_synthetic_2d_data():\n",
    "    # Define dimensions\n",
    "    time = pd.date_range(\"2024-01-01\", periods=5, freq=\"D\")\n",
    "    stations = [\"Station1\", \"Station2\", \"Station3\"]\n",
    "\n",
    "    # Use specified forecast and observed values\n",
    "    forecast_data = np.array(\n",
    "        [[3, 4, 5, 6, 7], [3, 4, 5, 6, 7], [3, 4, 5, 6, 7]]\n",
    "    ).T  # Transpose to align with dimensions (time, station)\n",
    "    observed_data = np.array(\n",
    "        [[2, 3, 4, 5, 6], [2, 3, 4, 5, 6], [2, 3, 4, 5, 6]]\n",
    "    ).T  # Transpose to align with dimensions (time, station)\n",
    "\n",
    "    # Create forecast DataArray\n",
    "    forecast_da = xr.DataArray(\n",
    "        forecast_data, coords={\"time\": time, \"station\": stations}, dims=[\"time\", \"station\"], name=\"forecast\"\n",
    "    )\n",
    "\n",
    "    # Create observed DataArray\n",
    "    observed_da = xr.DataArray(\n",
    "        observed_data, coords={\"time\": time, \"station\": stations}, dims=[\"time\", \"station\"], name=\"observed\"\n",
    "    )\n",
    "\n",
    "    return forecast_da, observed_da"
   ]
  },
  {
   "cell_type": "code",
   "execution_count": 7,
   "metadata": {},
   "outputs": [
    {
     "name": "stdout",
     "output_type": "stream",
     "text": [
      "NSE for station: <xarray.DataArray ()> Size: 8B\n",
      "array(0.5)\n"
     ]
    }
   ],
   "source": [
    "# Create synthetic forecast and observed DataArrays\n",
    "fcst_xr, obs_xr = create_synthetic_2d_data()\n",
    "\n",
    "# Calculate the NSE for the test case\n",
    "nse_value = nse(fcst_xr, obs_xr)\n",
    "print(\"NSE for station:\", nse_value)"
   ]
  },
  {
   "cell_type": "markdown",
   "metadata": {},
   "source": [
    "**Example 6**: 3D Array: Ensemble, Station and Time"
   ]
  },
  {
   "cell_type": "code",
   "execution_count": 8,
   "metadata": {},
   "outputs": [],
   "source": [
    "def create_synthetic_3d_data():\n",
    "    # Define dimensions\n",
    "    time = pd.date_range(\"2024-01-01\", periods=5, freq=\"D\")\n",
    "    stations = [\"Station1\", \"Station2\", \"Station3\"]\n",
    "    ensemble = [\"Ensemble1\", \"Ensemble2\", \"Ensemble3\"]\n",
    "\n",
    "    # Use specified forecast and observed values\n",
    "    forecast_data = np.array(\n",
    "        [[3, 4, 5, 6, 7], [3, 4, 5, 6, 7], [3, 4, 5, 6, 7]]\n",
    "    ).T  # Transpose to align with dimensions (time, station)\n",
    "    observed_data = np.array(\n",
    "        [[2, 3, 4, 5, 6], [2, 3, 4, 5, 6], [2, 3, 4, 5, 6]]\n",
    "    ).T  # Transpose to align with dimensions (time, station)\n",
    "\n",
    "    # Repeat data for each ensemble member\n",
    "    forecast_data = np.repeat(forecast_data[np.newaxis, ...], len(ensemble), axis=0)\n",
    "    observed_data = np.repeat(observed_data[np.newaxis, ...], len(ensemble), axis=0)\n",
    "\n",
    "    # Create forecast DataArray\n",
    "    forecast_da = xr.DataArray(\n",
    "        forecast_data,\n",
    "        coords={\"ensemble\": ensemble, \"time\": time, \"station\": stations},\n",
    "        dims=[\"ensemble\", \"time\", \"station\"],\n",
    "        name=\"forecast\",\n",
    "    )\n",
    "\n",
    "    # Create observed DataArray\n",
    "    observed_da = xr.DataArray(\n",
    "        observed_data,\n",
    "        coords={\"ensemble\": ensemble, \"time\": time, \"station\": stations},\n",
    "        dims=[\"ensemble\", \"time\", \"station\"],\n",
    "        name=\"observed\",\n",
    "    )\n",
    "\n",
    "    return forecast_da, observed_da"
   ]
  },
  {
   "cell_type": "code",
   "execution_count": 9,
   "metadata": {},
   "outputs": [
    {
     "name": "stdout",
     "output_type": "stream",
     "text": [
      "NSE for station: <xarray.DataArray ()> Size: 8B\n",
      "array(0.5)\n"
     ]
    }
   ],
   "source": [
    "fcst_xr, obs_xr = create_synthetic_3d_data()\n",
    "\n",
    "# Calculate the NSE for the test case\n",
    "nse_value = nse(fcst_xr, obs_xr)\n",
    "print(\"NSE for station:\", nse_value)"
   ]
  },
  {
   "cell_type": "markdown",
   "metadata": {},
   "source": [
    "**Example 7**: 3D Array: Time, Station and lead times"
   ]
  },
  {
   "cell_type": "code",
   "execution_count": 10,
   "metadata": {},
   "outputs": [],
   "source": [
    "import numpy as np\n",
    "import pandas as pd\n",
    "import xarray as xr\n",
    "\n",
    "\n",
    "def create_synthetic_deterministic_data():\n",
    "    # Define dimensions\n",
    "    time = pd.date_range(\"2024-01-01\", \"2024-01-31\", freq=\"D\")\n",
    "    stations = [\"Station1\", \"Station2\", \"Station3\", \"Station4\", \"Station5\"]\n",
    "    lead_times_forecast = np.arange(1, 8)  # Lead times from 1 to 7 for forecast\n",
    "    lead_times_observed = np.array([1])  # Lead time of 1 day for observed data\n",
    "\n",
    "    # Generate synthetic hydrograph data\n",
    "    np.random.seed(0)  # For reproducibility\n",
    "\n",
    "    # Base sine wave to simulate periodic streamflow variations\n",
    "    days = len(time)\n",
    "    base_flow = 150 + 50 * np.sin(2 * np.pi * np.arange(days) / days)  # Mean of 150, amplitude of 50\n",
    "\n",
    "    # Reshape base_flow to match dimensions (31, 1, 1) for broadcasting\n",
    "    base_flow = base_flow[:, np.newaxis, np.newaxis]\n",
    "\n",
    "    # Adding random fluctuations around the base flow for forecast and observed data\n",
    "    forecast_data = np.clip(base_flow + 20 * np.random.randn(days, len(stations), len(lead_times_forecast)), 0, 300)\n",
    "    observed_data = np.clip(base_flow + 20 * np.random.randn(days, len(stations), len(lead_times_observed)), 0, 300)\n",
    "\n",
    "    # Create forecast DataArray\n",
    "    forecast_da = xr.DataArray(\n",
    "        forecast_data,\n",
    "        coords={\"time\": time, \"station\": stations, \"lead_time\": lead_times_forecast},\n",
    "        dims=[\"time\", \"station\", \"lead_time\"],\n",
    "        name=\"forecast\",\n",
    "    )\n",
    "\n",
    "    # Create observed DataArray\n",
    "    observed_da = xr.DataArray(\n",
    "        observed_data,\n",
    "        coords={\"time\": time, \"station\": stations, \"lead_time\": lead_times_observed},\n",
    "        dims=[\"time\", \"station\", \"lead_time\"],\n",
    "        name=\"observed\",\n",
    "    )\n",
    "\n",
    "    return forecast_da, observed_da"
   ]
  },
  {
   "cell_type": "code",
   "execution_count": 11,
   "metadata": {},
   "outputs": [
    {
     "name": "stdout",
     "output_type": "stream",
     "text": [
      "(31, 5, 7)\n",
      "(31, 5, 1)\n"
     ]
    }
   ],
   "source": [
    "# Display the DataArrays\n",
    "# Create forecast and observed DataArrays\n",
    "forecast_da, observed_da = create_synthetic_deterministic_data()\n",
    "print(forecast_da.shape)\n",
    "print(observed_da.shape)"
   ]
  },
  {
   "cell_type": "markdown",
   "metadata": {},
   "source": [
    "xarray.DataArray'forecast'time: 31 station: 5lead_time: 7\n",
    "xarray.DataArray'observed'time: 31 station: 5lead_time: 1"
   ]
  },
  {
   "cell_type": "markdown",
   "metadata": {},
   "source": [
    "NSE Calculation along Lead time"
   ]
  },
  {
   "cell_type": "code",
   "execution_count": 12,
   "metadata": {},
   "outputs": [
    {
     "name": "stdout",
     "output_type": "stream",
     "text": [
      "NSE for leadtime 1: 0.5723544192588721\n",
      "NSE for leadtime 2: 0.5626211975440663\n",
      "NSE for leadtime 3: 0.5190530423334399\n",
      "NSE for leadtime 4: 0.4552724688067896\n",
      "NSE for leadtime 5: 0.6035837087071741\n",
      "NSE for leadtime 6: 0.5388020768178767\n",
      "NSE for leadtime 7: 0.5045349373163093\n"
     ]
    }
   ],
   "source": [
    "for ilead in forecast_da[\"lead_time\"].values:\n",
    "    cur_fcst_da = forecast_da.sel(lead_time=ilead)\n",
    "    nse_value = nse(cur_fcst_da, observed_da).values\n",
    "    print(f\"NSE for leadtime {ilead}:\", nse_value)"
   ]
  },
  {
   "cell_type": "markdown",
   "metadata": {},
   "source": [
    "**Example 8**: 4D Array: Time, Station, lead times and ensemble"
   ]
  },
  {
   "cell_type": "code",
   "execution_count": 13,
   "metadata": {},
   "outputs": [],
   "source": [
    "def create_synthetic_ensemble_data():\n",
    "    # Define dimensions\n",
    "    time = pd.date_range(\"2024-01-01\", \"2024-01-31\", freq=\"D\")\n",
    "    stations = [\"Station1\", \"Station2\", \"Station3\", \"Station4\", \"Station5\"]\n",
    "    lead_times_forecast = np.arange(1, 8)  # Lead times from 1 to 7 for forecast\n",
    "    lead_times_observed = np.array([1])  # Lead time of 1 day for observed data\n",
    "    ensemble = [f\"Ensemble{i}\" for i in range(1, 21)]  # Ensemble members from Ensemble1 to Ensemble20\n",
    "\n",
    "    # Generate synthetic hydrograph data\n",
    "    np.random.seed(0)  # For reproducibility\n",
    "\n",
    "    # Create base flow as a constant value of 30 cumec\n",
    "    base_flow = 30\n",
    "\n",
    "    # Adding random fluctuations around the base flow for forecast and observed data\n",
    "    forecast_data = base_flow + np.random.randint(\n",
    "        0, 301, size=(len(time), len(stations), len(lead_times_forecast), len(ensemble))\n",
    "    )\n",
    "    observed_data = base_flow + np.random.randint(0, 301, size=(len(time), len(stations), len(lead_times_observed)))\n",
    "\n",
    "    # Clip the data to ensure it stays within a certain range\n",
    "    forecast_data = np.clip(forecast_data, 0, 300)\n",
    "    observed_data = np.clip(observed_data, 0, 300)\n",
    "\n",
    "    # Create forecast DataArray\n",
    "    forecast_da = xr.DataArray(\n",
    "        forecast_data,\n",
    "        coords={\"time\": time, \"station\": stations, \"lead_time\": lead_times_forecast, \"ensemble\": ensemble},\n",
    "        dims=[\"time\", \"station\", \"lead_time\", \"ensemble\"],\n",
    "        name=\"forecast\",\n",
    "    )\n",
    "\n",
    "    # Create observed DataArray\n",
    "    observed_da = xr.DataArray(\n",
    "        observed_data,\n",
    "        coords={\"time\": time, \"station\": stations, \"lead_time\": lead_times_observed},\n",
    "        dims=[\"time\", \"station\", \"lead_time\"],\n",
    "        name=\"observed\",\n",
    "    )\n",
    "\n",
    "    return forecast_da, observed_da"
   ]
  },
  {
   "cell_type": "code",
   "execution_count": 14,
   "metadata": {},
   "outputs": [],
   "source": [
    "# Create forecast and observed DataArrays\n",
    "forecast_ensemble_da, observed_da = create_synthetic_ensemble_data()\n",
    "\n",
    "# Display the DataArrays\n",
    "# print(forecast_ensemble_da)"
   ]
  },
  {
   "cell_type": "code",
   "execution_count": 15,
   "metadata": {},
   "outputs": [
    {
     "name": "stdout",
     "output_type": "stream",
     "text": [
      "(31, 5, 7, 20)\n",
      "(31, 5, 1)\n"
     ]
    }
   ],
   "source": [
    "print(forecast_ensemble_da.shape)\n",
    "print(observed_da.shape)"
   ]
  },
  {
   "cell_type": "markdown",
   "metadata": {},
   "source": [
    "<xarray.DataArray 'forecast' (time: 31, station: 5, lead_time: 7, ensemble: 20)>\n",
    "\n",
    "<xarray.DataArray 'observed' (time: 31, station: 5, lead_time: 1)>"
   ]
  },
  {
   "cell_type": "code",
   "execution_count": null,
   "metadata": {},
   "outputs": [],
   "source": []
  },
  {
   "cell_type": "code",
   "execution_count": 16,
   "metadata": {},
   "outputs": [],
   "source": [
    "# Initialize an empty list to store results\n",
    "results_list = []\n",
    "\n",
    "# Iterate through each ensemble member and lead time\n",
    "for imember in forecast_ensemble_da[\"ensemble\"].values:\n",
    "    for ilead in forecast_ensemble_da[\"lead_time\"].values:\n",
    "        # Select the forecast data for the current ensemble member and lead time\n",
    "        cur_fcst_da = forecast_ensemble_da.sel(ensemble=imember, lead_time=ilead)\n",
    "\n",
    "        # Calculate NSE value for the selected forecast data and observed data\n",
    "        nse_value = nse(cur_fcst_da, observed_da).values\n",
    "\n",
    "        # Append the results as a dictionary to the list\n",
    "        results_list.append({\"ensemble\": imember, \"lead_time\": ilead, \"NSE\": nse_value})\n",
    "\n",
    "# Create a DataFrame from the list of dictionaries\n",
    "nse_results = pd.DataFrame(results_list)"
   ]
  },
  {
   "cell_type": "code",
   "execution_count": 17,
   "metadata": {},
   "outputs": [
    {
     "name": "stdout",
     "output_type": "stream",
     "text": [
      "    ensemble  lead_time                  NSE\n",
      "0  Ensemble1          1  -1.1721371704833188\n",
      "1  Ensemble1          2  -1.0448237401444582\n",
      "2  Ensemble1          3   -1.060897482889457\n"
     ]
    }
   ],
   "source": [
    "# Print the DataFrame\n",
    "print(nse_results.head(3))"
   ]
  }
 ],
 "metadata": {
  "kernelspec": {
   "display_name": "scoresenv",
   "language": "python",
   "name": "python3"
  },
  "language_info": {
   "codemirror_mode": {
    "name": "ipython",
    "version": 3
   },
   "file_extension": ".py",
   "mimetype": "text/x-python",
   "name": "python",
   "nbconvert_exporter": "python",
   "pygments_lexer": "ipython3",
   "version": "3.12.3"
  },
  "orig_nbformat": 4
 },
 "nbformat": 4,
 "nbformat_minor": 2
}
