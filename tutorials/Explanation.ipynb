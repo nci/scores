{
 "cells": [
  {
   "cell_type": "markdown",
   "id": "acfa7d16-ab79-4ff5-9b94-7b7122d6a179",
   "metadata": {
    "tags": []
   },
   "source": [
    "# Tutorials\n",
    "\n",
    "Jupyter Notebooks for tutorials of `scores`.\n",
    "\n",
    "\n",
    "Firstly run [Data Fetching](./First_Data_Fetching.ipynb) to fetch the data needed for some later notebooks\n"
   ]
  },
  {
   "cell_type": "markdown",
   "id": "a48b39d6",
   "metadata": {
    "tags": [
     "nbsphinx-gallery"
    ]
   },
   "source": [
    "- [Data Fetching](./First_Data_Fetching.ipynb)"
   ]
  },
  {
   "cell_type": "markdown",
   "id": "344d823b",
   "metadata": {
    "tags": [
     "nbsphinx-gallery"
    ]
   },
   "source": [
    "\n",
    "## Continuous\n",
    "- [Flip-Flop Index](./Flip_Flop_Index.ipynb)\n",
    "- [MAE](./Mean_Absolute_Error.ipynb) / [RMSE](./Root_Mean_Squared_Error.ipynb) / [MSE](./Mean_Squared_Error.ipynb)\n",
    "- [Murphy Diagrams](./Murphy_Diagrams.ipynb)\n",
    "- [Pearson's Correlation](./Pearsons_Correlation.ipynb)\n",
    "- [Quantile Loss](./Quantile_Loss.ipynb)\n",
    "- [Additive Bias and Multiplicative Bias](./Additive_and_multiplicative_bias.ipynb)"
   ]
  },
  {
   "cell_type": "markdown",
   "id": "066a42ff",
   "metadata": {
    "tags": [
     "nbsphinx-gallery"
    ]
   },
   "source": [
    "\n",
    "## Categorical\n",
    "- [FIRM](./FIRM.ipynb)\n",
    "- [Binary Contingency Scores](./Binary_Contingency_Scores.ipynb)\n"
   ]
  },
  {
   "cell_type": "markdown",
   "id": "5f7af137",
   "metadata": {
    "tags": [
     "nbsphinx-gallery"
    ]
   },
   "source": [
    "\n",
    "## Probability\n",
    "\n",
    "- [Brier Score](./Brier_Score.ipynb)\n",
    "- [CRPS Part 1, for forecasts expressed as CDFs](./CRPS_for_CDFs.ipynb)\n",
    "- [CRPS Part 2, for ensemble forecasts](./CRPS_for_Ensembles.ipynb)\n",
    "- [Reciever Operating Characteristic](./ROC.ipynb)\n"
   ]
  },
  {
   "cell_type": "markdown",
   "id": "c8765192",
   "metadata": {
    "tags": [
     "nbsphinx-gallery"
    ]
   },
   "source": [
    "\n",
    "## Stats\n",
    "- [Diebold Mariano](./Diebold_Mariano_Test_Statistic.ipynb)\n"
   ]
  },
  {
   "cell_type": "markdown",
   "id": "1e8c0be0",
   "metadata": {},
   "source": [
    "## Processing\n",
    "- [Isotonic Regression and Reliability Diagrams](./Isotonic_Regression_And_Reliability_Diagrams.ipynb)"
   ]
  },
  {
   "cell_type": "markdown",
   "id": "6e1ed380",
   "metadata": {
    "tags": [
     "nbsphinx-gallery"
    ]
   },
   "source": [
    "\n",
    "## Other\n",
    "- [Weighting Results](./Weighting_Results.ipynb)\n",
    "- [Angular data](./Angular_data.ipynb)\n",
    "- [Introduction to Pandas API](./Pandas_API.ipynb)"
   ]
  },
  {
   "cell_type": "code",
   "execution_count": null,
   "id": "4d050794-1d61-4274-bfd8-99b2fd24cc0e",
   "metadata": {},
   "outputs": [],
   "source": []
  }
 ],
 "metadata": {
  "kernelspec": {
   "display_name": "Python 3 (ipykernel)",
   "language": "python",
   "name": "python3"
  },
  "language_info": {
   "codemirror_mode": {
    "name": "ipython",
    "version": 3
   },
   "file_extension": ".py",
   "mimetype": "text/x-python",
   "name": "python",
   "nbconvert_exporter": "python",
   "pygments_lexer": "ipython3",
   "version": "3.12.2"
  }
 },
 "nbformat": 4,
 "nbformat_minor": 5
}
