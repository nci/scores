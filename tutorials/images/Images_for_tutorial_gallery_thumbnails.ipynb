{
 "cells": [
  {
   "cell_type": "markdown",
   "id": "ed561938-94c0-4732-a653-f10254b88e24",
   "metadata": {},
   "source": [
    "## This notebook exists soley for the purpose of creating images for the tutorial gallery (when it does not automatically work directly from the relevant notebook)"
   ]
  },
  {
   "cell_type": "markdown",
   "id": "f74bd844-3694-44a8-89cf-75f2e5e94d4e",
   "metadata": {},
   "source": [
    "[Block_Bootstrapping.ipynb](../Block_Bootstrapping.ipynb) tutorial gallery thumbnail (below)"
   ]
  },
  {
   "cell_type": "markdown",
   "id": "d0f4a8c9-02d3-4cce-a4e3-e084d5380709",
   "metadata": {},
   "source": [
    "![Block bootstrapping thumbnail](block_bootstrapping_thumbnail.png)"
   ]
  },
  {
   "cell_type": "markdown",
   "id": "2609ae0e-e912-4348-ad58-08cc242536d8",
   "metadata": {},
   "source": [
    "[Isotonic_Regression_And_Reliability_Diagrams.ipynb](../Isotonic_Regression_And_Reliability_Diagrams.ipynb) tutorial gallery thumbnail (below)"
   ]
  },
  {
   "cell_type": "markdown",
   "id": "e690fc7d-978d-436c-9233-c83778b256e8",
   "metadata": {},
   "source": [
    "![Isotonic regression thumbnail](isotonic_regression_thumbnail.png)"
   ]
  },
  {
   "cell_type": "markdown",
   "id": "df9696e8-87e9-4fb7-80c1-fce78a2fe6a8",
   "metadata": {},
   "source": [
    "[Binary_Contingency_Scores.ipynb](../Binary_Contingency_Scores.ipynb) tutorial gallery thumbnail(below)"
   ]
  },
  {
   "cell_type": "markdown",
   "id": "6d1efe59-b0d0-49e5-a4cc-940c0a7a03de",
   "metadata": {},
   "source": [
    "![Binary contingency thumbnail](binary_contingency_thumbnail.png)"
   ]
  },
  {
   "cell_type": "markdown",
   "id": "5c520c14-126d-472b-94cc-cfaea02f66f1",
   "metadata": {},
   "source": [
    "[Q-Q_plots.ipynb](../Q-Q_plots.ipynb) tutorial gallery thumbnail (below)"
   ]
  },
  {
   "cell_type": "markdown",
   "id": "ae317799-20c6-4d69-b1ca-3c51cc0919d7",
   "metadata": {},
   "source": [
    "![Q-Q plots thumbnail](qq_thumbnail.png)"
   ]
  },
  {
   "cell_type": "markdown",
   "id": "7ca64a84-78b4-4104-8441-1628ef27f57b",
   "metadata": {},
   "source": [
    "[Angular_data.ipynb](../Angular_data.ipynb) tutorial gallery thumbnail (below)"
   ]
  },
  {
   "cell_type": "markdown",
   "id": "1568d214-6b46-4898-b90f-7bae9e9c182d",
   "metadata": {},
   "source": [
    "![Angualar data thumbnail](angular_data_thumbnail.png)"
   ]
  },
  {
   "cell_type": "markdown",
   "id": "9c7772bf-699f-47fc-bf01-0094adc2e526",
   "metadata": {},
   "source": [
    "[Dimension_Handling.ipynb](../Dimension_Handling.ipynb) tutorial gallery thumbnail (below)"
   ]
  },
  {
   "cell_type": "markdown",
   "id": "ca532e64-1e54-4836-86da-3a2289566b2a",
   "metadata": {},
   "source": [
    "![Dimension Handling Thumbnail](dimension_handling_thumbnail.png)"
   ]
  },
  {
   "cell_type": "code",
   "execution_count": null,
   "id": "334f4efc-9257-49c3-bb50-e1d2e4b9d21a",
   "metadata": {},
   "outputs": [],
   "source": []
  }
 ],
 "metadata": {
  "kernelspec": {
   "display_name": "Python 3 (ipykernel)",
   "language": "python",
   "name": "python3"
  },
  "language_info": {
   "codemirror_mode": {
    "name": "ipython",
    "version": 3
   },
   "file_extension": ".py",
   "mimetype": "text/x-python",
   "name": "python",
   "nbconvert_exporter": "python",
   "pygments_lexer": "ipython3",
   "version": "3.13.5"
  }
 },
 "nbformat": 4,
 "nbformat_minor": 5
}
