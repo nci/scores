{
 "cells": [
  {
   "cell_type": "markdown",
   "id": "ed561938-94c0-4732-a653-f10254b88e24",
   "metadata": {},
   "source": [
    "## This notebook exists soley for the purpose of creating images for the tutorial gallery (when it does not automatically work directly from the relevant notebook)"
   ]
  },
  {
   "cell_type": "markdown",
   "id": "f74bd844-3694-44a8-89cf-75f2e5e94d4e",
   "metadata": {},
   "source": [
    "[Block_Bootstrapping.ipynb](../Block_Bootstrapping.ipynb) tutorial gallery thumbnail (below)"
   ]
  },
  {
   "cell_type": "markdown",
   "id": "d0f4a8c9-02d3-4cce-a4e3-e084d5380709",
   "metadata": {},
   "source": [
    "![Block bootstrapping thumbnail](block_bootstrapping_thumbnail.png)"
   ]
  },
  {
   "cell_type": "markdown",
   "id": "2609ae0e-e912-4348-ad58-08cc242536d8",
   "metadata": {},
   "source": [
    "[Isotonic_Regression_And_Reliability_Diagrams.ipynb](../Isotonic_Regression_And_Reliability_Diagrams.ipynb) tutorial gallery thumbnail (below)"
   ]
  },
  {
   "cell_type": "markdown",
   "id": "e690fc7d-978d-436c-9233-c83778b256e8",
   "metadata": {},
   "source": [
    "![Isotonic regression thumbnail](isotonic_regression_thumbnail.png)"
   ]
  },
  {
   "cell_type": "markdown",
   "id": "df9696e8-87e9-4fb7-80c1-fce78a2fe6a8",
   "metadata": {},
   "source": [
    "[Binary_Contingency_Scores.ipynb](../Binary_Contingency_Scores.ipynb) tutorial gallery thumbnail(below)"
   ]
  },
  {
   "cell_type": "markdown",
   "id": "6d1efe59-b0d0-49e5-a4cc-940c0a7a03de",
   "metadata": {},
   "source": [
    "![Binary contingency thumbnail](binary_contingency_thumbnail.png)"
   ]
  },
  {
   "cell_type": "markdown",
   "id": "5c520c14-126d-472b-94cc-cfaea02f66f1",
   "metadata": {},
   "source": [
    "[Q-Q_plots.ipynb](../Q-Q_plots.ipynb) tutorial gallery thumbnail (below)"
   ]
  },
  {
   "cell_type": "markdown",
   "id": "ae317799-20c6-4d69-b1ca-3c51cc0919d7",
   "metadata": {},
   "source": [
    "![Q-Q plots thumbnail](qq_thumbnail.png)"
   ]
  },
  {
   "cell_type": "markdown",
   "id": "7ca64a84-78b4-4104-8441-1628ef27f57b",
   "metadata": {},
   "source": [
    "[Angular_data.ipynb](../Angular_data.ipynb) tutorial gallery thumbnail (below)"
   ]
  },
  {
   "cell_type": "markdown",
   "id": "1568d214-6b46-4898-b90f-7bae9e9c182d",
   "metadata": {},
   "source": [
    "![Angualar data thumbnail](angular_data_thumbnail.png)"
   ]
  },
  {
   "cell_type": "markdown",
   "id": "60c0a778-37b4-4cff-84ae-f97de6220d36",
   "metadata": {},
   "source": [
    "[Dimension_Handling.ipynb](../Dimension_Handling.ipynb) tutorial gallery thumbnail (below)"
   ]
  },
  {
   "cell_type": "markdown",
   "id": "ca532e64-1e54-4836-86da-3a2289566b2a",
   "metadata": {},
   "source": [
    "![Dimension Handling Thumbnail](dimension_handling_thumbnail.png)"
   ]
  },
  {
   "cell_type": "markdown",
   "id": "32ac3a74-0247-4097-a37c-d809a6d05751",
   "metadata": {},
   "source": [
    "[NSE.ipynb](../NSE.ipynb) tutorial gallery thumbnail (below) "
   ]
  },
  {
   "cell_type": "markdown",
   "id": "8f40abfb-49d9-49ba-847a-734c1d25a772",
   "metadata": {},
   "source": [
    "![NSE Thumbnail](NSE_thumbnail.png)"
   ]
  },
  {
   "cell_type": "markdown",
   "id": "ec913882-ba3d-4a86-a171-4a22ba74084e",
   "metadata": {},
   "source": [
    "[Quantile_Loss.ipynb](../Quantile_Loss.ipynb) tutorial gallery thumbnail (below)"
   ]
  },
  {
   "cell_type": "markdown",
   "id": "5478c10a-eb3e-4ba2-975e-32aa3d53d1c8",
   "metadata": {},
   "source": [
    "![Quantile Loss Thumbnail](quantile_loss_thumbnail.png)"
   ]
  },
  {
   "cell_type": "markdown",
   "id": "cbca7602-b074-47c0-bde1-636e5f751003",
   "metadata": {},
   "source": [
    "[Threshold_Weighted_Scores.ipynb](../Threshold_Weighted_Scores.ipynb) tutorial gallery thumbnail (below)"
   ]
  },
  {
   "cell_type": "markdown",
   "id": "b0906f44-1173-41db-8c6e-4375f7adcab7",
   "metadata": {},
   "source": [
    "![Threshold Weighted Scores Thumbnail](threshold_weighted_scores_thumbnail.png)"
   ]
  },
  {
   "cell_type": "markdown",
   "id": "3c707fee-9454-4d98-b59a-010b16cdb38a",
   "metadata": {},
   "source": [
    "[Threshold_Weighted_CRPS_for_Ensembles.ipynb](../Threshold_Weighted_CRPS_for_Ensembles.ipynb) tutorial gallery thumbnail (below)"
   ]
  },
  {
   "cell_type": "markdown",
   "id": "aa5f24fb-2c98-4fc9-b098-3aa814d3b28d",
   "metadata": {},
   "source": [
    "![Threshold Weighted CRPS for Ensembles Thumbnail](twCRPS_for_ensembles_thumbnail.png)"
   ]
  },
  {
   "cell_type": "markdown",
   "id": "fc7ae870-34ef-4623-9e05-993f7cff77a2",
   "metadata": {},
   "source": [
    "[Brier_Score.ipynb](../Brier_Score.ipynb) tutorial gallery thumbnail (below)"
   ]
  },
  {
   "cell_type": "markdown",
   "id": "b435631a-8337-4375-8d51-def741ac3036",
   "metadata": {},
   "source": [
    "![Brier Score Thumbnail](brier_thumbnail.png)"
   ]
  },
  {
   "cell_type": "markdown",
   "id": "9ca2ed26-bb3a-4539-bbbd-4273b7676278",
   "metadata": {},
   "source": [
    "[Quantile_Interval_And_Interval_Score.ipynb](../Quantile_Interval_And_Interval_Score.ipynb) tutorial gallery thumbnail (below)"
   ]
  },
  {
   "cell_type": "markdown",
   "id": "9de11024-97d6-489c-b427-3ca461c700bb",
   "metadata": {},
   "source": [
    "Quantile 2 ![Quantile Interval and Interval Score Thumbnail](quantile_interval_score_and_interval_score_thumbnail.png)"
   ]
  },
  {
   "cell_type": "code",
   "execution_count": null,
   "id": "ca1fb777-c00a-471e-9abe-0c86b9aab27f",
   "metadata": {},
   "outputs": [],
   "source": []
  }
 ],
 "metadata": {
  "kernelspec": {
   "display_name": "Python 3 (ipykernel)",
   "language": "python",
   "name": "python3"
  },
  "language_info": {
   "codemirror_mode": {
    "name": "ipython",
    "version": 3
   },
   "file_extension": ".py",
   "mimetype": "text/x-python",
   "name": "python",
   "nbconvert_exporter": "python",
   "pygments_lexer": "ipython3",
   "version": "3.13.5"
  }
 },
 "nbformat": 4,
 "nbformat_minor": 5
}
