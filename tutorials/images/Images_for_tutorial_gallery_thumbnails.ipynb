{
 "cells": [
  {
   "cell_type": "markdown",
   "id": "ed561938-94c0-4732-a653-f10254b88e24",
   "metadata": {},
   "source": [
    "## This notebook exists soley for the purpose of creating images for the tutorial gallery (when it does not automatically work directly from the relevant notebook)"
   ]
  },
  {
   "cell_type": "markdown",
   "id": "f74bd844-3694-44a8-89cf-75f2e5e94d4e",
   "metadata": {},
   "source": [
    "Block Bootstraping Thumbnail (Below)"
   ]
  },
  {
   "cell_type": "markdown",
   "id": "d0f4a8c9-02d3-4cce-a4e3-e084d5380709",
   "metadata": {},
   "source": [
    "![Block Bootstrapping](block_bootstrapping.png)"
   ]
  },
  {
   "cell_type": "markdown",
   "id": "2609ae0e-e912-4348-ad58-08cc242536d8",
   "metadata": {},
   "source": [
    "Isotonic Regression Thumbnail (Below)"
   ]
  },
  {
   "cell_type": "markdown",
   "id": "e690fc7d-978d-436c-9233-c83778b256e8",
   "metadata": {},
   "source": [
    "![Isotonic Regression](isotonic_regression2.png)"
   ]
  },
  {
   "cell_type": "code",
   "execution_count": null,
   "id": "767c3ae2-7f4e-47a4-865f-6218a3438739",
   "metadata": {},
   "outputs": [],
   "source": []
  }
 ],
 "metadata": {
  "kernelspec": {
   "display_name": "Python 3 (ipykernel)",
   "language": "python",
   "name": "python3"
  },
  "language_info": {
   "codemirror_mode": {
    "name": "ipython",
    "version": 3
   },
   "file_extension": ".py",
   "mimetype": "text/x-python",
   "name": "python",
   "nbconvert_exporter": "python",
   "pygments_lexer": "ipython3",
   "version": "3.13.5"
  }
 },
 "nbformat": 4,
 "nbformat_minor": 5
}
