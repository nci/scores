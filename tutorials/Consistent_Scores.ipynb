{
 "cells": [
  {
   "cell_type": "markdown",
   "metadata": {},
   "source": [
    "# Consistent scores\n",
    "\n",
    "A \"consistent scoring function\" is a scoring function where following a forecast directive will optimise the forecaster's expected score. It is important to use consistent scoring functions to avoid the \"forecaster's dilemma\" ([Lerch et al., 2017](https://projecteuclid.org/journals/statistical-science/volume-32/issue-1/Forecasters-Dilemma-Extreme-Events-and-Forecast-Evaluation/10.1214/16-STS588.full)) (i.e., should a forecaster issue an honest forecast or should they issue one that optimises their expected score?).\n",
    "\n",
    "\n",
    "The MSE is a consistent score for forecasting the mean and the MAE is a consistent score for forecasting the median. But did you know that there are a whole family of scores that are consistent for prediciting the mean, median, or a quantile? \n",
    "\n",
    "Score's consistent scoring module provides access to these families of consistent scores that can we used to emphasise predictive performance across desired decision thresholds.\n",
    "\n",
    "### Example 1. A score consistent with the mean\n",
    "Let's jump into an example that illustrates a scoring function that is consistent with predicting the mean value using scores. **-Add interpretation here**\n",
    "\n",
    "Medians relate to quantiles in an analogous way to how the mean relates to [expectiles](https://en.wikipedia.org/wiki/Expectile).\n",
    "\n",
    "Our consistent scoring function for expectiles is \n",
    "\n",
    " $$ S(x, y) =\n",
    "    \\begin{cases}\n",
    "    (1 - \\alpha)(\\phi(y) - \\phi(x) - \\phi'(x)(y-x)), & y < x \\\\\n",
    "    \\alpha(\\phi(y) - \\phi(x) - \\phi'(x)(y-x)), & x \\leq y\n",
    "    \\end{cases}\n",
    "$$\n",
    "\n",
    "Where:\n",
    "- $x$ is the forecast\n",
    "- $y$ is the observation\n",
    "- $\\alpha$ is the expectile level\n",
    "- $\\phi$ is a [convex function](https://en.wikipedia.org/wiki/Convex_function) of a single variable\n",
    "- $\\phi'$ is the [subderivative](https://en.wikipedia.org/wiki/Subderivative) of $\\phi$. The subderivative is a generalisation of the derivative for convex functions and coincides with the derivative when the convex function is differentiable\n",
    "- $S(x,y)$ is the score.\n",
    "\n",
    "To make the expectile the consistent with the mean, set $\\alpha=0.5$.\n",
    "\n",
    "In our example let's set $\\phi(z) = e^z$. This means that when we take the subderivative of $\\phi(z)$, we also have $\\phi'(z) = e^z$.\n",
    "\n",
    "Our scoring function then is \n",
    "$$ S(x, y) = 0.5(e^y - e^x - e^x(y-x))$$\n"
   ]
  },
  {
   "cell_type": "code",
   "execution_count": 7,
   "metadata": {},
   "outputs": [
    {
     "data": {
      "text/plain": [
       "2910.1489698279747"
      ]
     },
     "execution_count": 7,
     "metadata": {},
     "output_type": "execute_result"
    }
   ],
   "source": [
    "import numpy as np\n",
    "x = 9\n",
    "y = 10\n",
    "0.5 * (np.exp(y)-np.exp(x) - np.exp(x)*(y-x))"
   ]
  },
  {
   "cell_type": "markdown",
   "metadata": {},
   "source": []
  }
 ],
 "metadata": {
  "kernelspec": {
   "display_name": "scoresenv",
   "language": "python",
   "name": "python3"
  },
  "language_info": {
   "codemirror_mode": {
    "name": "ipython",
    "version": 3
   },
   "file_extension": ".py",
   "mimetype": "text/x-python",
   "name": "python",
   "nbconvert_exporter": "python",
   "pygments_lexer": "ipython3",
   "version": "3.11.4"
  },
  "orig_nbformat": 4
 },
 "nbformat": 4,
 "nbformat_minor": 2
}
